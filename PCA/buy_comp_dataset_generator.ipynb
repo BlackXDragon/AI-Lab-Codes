{
 "cells": [
  {
   "cell_type": "markdown",
   "metadata": {},
   "source": [
    "# Code to generate the \"Buy Computer\" dataset and save it in file 'buy_comp.npy'"
   ]
  },
  {
   "cell_type": "code",
   "execution_count": 1,
   "metadata": {},
   "outputs": [],
   "source": [
    "import numpy as np\n",
    "from dataset import dataset"
   ]
  },
  {
   "cell_type": "code",
   "execution_count": 2,
   "metadata": {},
   "outputs": [],
   "source": [
    "data = dataset()\n",
    "\n",
    "data.feature_names = np.array(['age', 'income', 'student', 'credit rating'])\n",
    "data.target_names = np.array(['N', 'Y'])\n",
    "data.feature_cats = {'age': np.array(['<=30', '30-40', '>40']),\n",
    "                        'income': np.array(['L', 'M', 'H']),\n",
    "                        'student': np.array(['N', 'Y']),\n",
    "                        'credit rating': np.array(['Fair', 'Excellent'])}"
   ]
  },
  {
   "cell_type": "code",
   "execution_count": 3,
   "metadata": {},
   "outputs": [],
   "source": [
    "data.data = np.array([[0, 2, 0, 0],\n",
    "                         [0, 2, 0, 1],\n",
    "                         [1, 2, 0, 0],\n",
    "                         [2, 1, 0, 0],\n",
    "                         [2, 0, 1, 0],\n",
    "                         [2, 0, 1, 1],\n",
    "                         [1, 0, 1, 1],\n",
    "                         [0, 1, 0, 0],\n",
    "                         [0, 0, 1, 0],\n",
    "                         [2, 1, 1, 0],\n",
    "                         [0, 1, 1, 1],\n",
    "                         [1, 1, 0, 1],\n",
    "                         [1, 2, 1, 0],\n",
    "                         [2, 1, 0, 1]])\n",
    "\n",
    "data.target = np.array([0, 0, 1, 1, 1, 0, 1, 0, 1, 1, 1, 1, 1, 0])"
   ]
  },
  {
   "cell_type": "code",
   "execution_count": 4,
   "metadata": {},
   "outputs": [
    {
     "name": "stdout",
     "output_type": "stream",
     "text": [
      "(14, 4)\n",
      "(14,)\n"
     ]
    }
   ],
   "source": [
    "print(data.data.shape)\n",
    "print(data.target.shape)"
   ]
  },
  {
   "cell_type": "markdown",
   "metadata": {},
   "source": [
    "### Save dataset and check if it is saved properly"
   ]
  },
  {
   "cell_type": "code",
   "execution_count": 5,
   "metadata": {},
   "outputs": [],
   "source": [
    "np.save('buy_comp.npy', data)\n",
    "\n",
    "data_load = np.load('buy_comp.npy', allow_pickle = True).item()"
   ]
  },
  {
   "cell_type": "code",
   "execution_count": 6,
   "metadata": {},
   "outputs": [
    {
     "name": "stdout",
     "output_type": "stream",
     "text": [
      "All clear!\n"
     ]
    }
   ],
   "source": [
    "assert (data.data == data_load.data).all()\n",
    "assert (data.target == data_load.target).all()\n",
    "assert (data.feature_names == data_load.feature_names).all()\n",
    "assert (data.target_names == data_load.target_names).all()\n",
    "assert (np.array([(data.feature_cats[i] == data_load.feature_cats[i]).all for i in data.keys()])).all()\n",
    "print('All clear!')"
   ]
  }
 ],
 "metadata": {
  "kernelspec": {
   "display_name": "IDP",
   "language": "python",
   "name": "idp"
  },
  "language_info": {
   "codemirror_mode": {
    "name": "ipython",
    "version": 3
   },
   "file_extension": ".py",
   "mimetype": "text/x-python",
   "name": "python",
   "nbconvert_exporter": "python",
   "pygments_lexer": "ipython3",
   "version": "3.6.9"
  }
 },
 "nbformat": 4,
 "nbformat_minor": 2
}
